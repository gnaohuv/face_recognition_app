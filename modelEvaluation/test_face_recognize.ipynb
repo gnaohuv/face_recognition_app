{
 "cells": [
  {
   "cell_type": "markdown",
   "metadata": {},
   "source": [
    "## 1. Tạo dataset lưu path của ảnh cần test\n",
    "\n"
   ]
  },
  {
   "cell_type": "code",
   "execution_count": 32,
   "metadata": {},
   "outputs": [
    {
     "name": "stdout",
     "output_type": "stream",
     "text": [
      "File CSV đã được tạo thành công.\n"
     ]
    }
   ],
   "source": [
    "# import os\n",
    "# import csv\n",
    "# base_dir = \"C:/Users/Admin/Desktop/IMG_Test\"\n",
    "# with open('image_paths.csv', 'w', newline='', encoding='utf-8') as csvfile:\n",
    "#     # Tạo một đối tượng DictWriter\n",
    "#     fieldnames = ['name', 'face', 'unknown','is_same']  # Tên trường đã được sửa\n",
    "#     writer = csv.DictWriter(csvfile, fieldnames=fieldnames)\n",
    "#     # Ghi tên cột\n",
    "#     writer.writeheader()\n",
    "#     # Duyệt qua tất cả các thư mục trong thư mục cơ sở\n",
    "#     for name in os.listdir(base_dir):\n",
    "#         name_path = os.path.join(base_dir, name)\n",
    "#         if os.path.isdir(name_path):\n",
    "#             # Lấy đường dẫn của các hình ảnh trong thư mục hiện tại\n",
    "#             image_files = os.listdir(name_path)\n",
    "#             # Giả sử cặp ảnh luôn là các tệp tin có cùng chỉ số trong danh sách\n",
    "#             for i in range(0, len(image_files), 2):\n",
    "#                 face_path = os.path.join(name_path, image_files[i])\n",
    "#                 unknown_path = os.path.join(name_path, image_files[i+1])\n",
    "#                 # Ghi đường dẫn của cặp ảnh vào tập tin CSV\n",
    "#                 writer.writerow({'name': name, 'face': face_path, 'unknown': unknown_path})\n",
    "# print(\"File CSV đã được tạo thành công.\")\n"
   ]
  },
  {
   "cell_type": "markdown",
   "metadata": {},
   "source": [
    "## 2. Đọc ảnh từ file dataset, tiến hành so sánh sử dụng face_recognition\n"
   ]
  },
  {
   "cell_type": "code",
   "execution_count": 2,
   "metadata": {},
   "outputs": [
    {
     "data": {
      "text/plain": [
       "[1,\n",
       " 1,\n",
       " 1,\n",
       " 1,\n",
       " 1,\n",
       " 1,\n",
       " 1,\n",
       " 1,\n",
       " 0,\n",
       " 0,\n",
       " 0,\n",
       " 0,\n",
       " 1,\n",
       " 1,\n",
       " 1,\n",
       " 0,\n",
       " 1,\n",
       " 0,\n",
       " 1,\n",
       " 1,\n",
       " 1,\n",
       " 0,\n",
       " 1,\n",
       " 1,\n",
       " 1,\n",
       " 1,\n",
       " 0,\n",
       " 1,\n",
       " 1,\n",
       " 1,\n",
       " 1,\n",
       " 1,\n",
       " 0,\n",
       " 1,\n",
       " 1,\n",
       " 0,\n",
       " 1,\n",
       " 1,\n",
       " 1,\n",
       " 1,\n",
       " 1,\n",
       " 1,\n",
       " 1,\n",
       " 1,\n",
       " 1,\n",
       " 1,\n",
       " 1,\n",
       " 1,\n",
       " 1,\n",
       " 0,\n",
       " 0,\n",
       " 1,\n",
       " 1,\n",
       " 1,\n",
       " 1,\n",
       " 0,\n",
       " 1,\n",
       " 0,\n",
       " 1,\n",
       " 0,\n",
       " 1,\n",
       " 1,\n",
       " 1,\n",
       " 0,\n",
       " 1,\n",
       " 1,\n",
       " 0,\n",
       " 0,\n",
       " 0,\n",
       " 1,\n",
       " 0,\n",
       " 0,\n",
       " 0,\n",
       " 1,\n",
       " 1,\n",
       " 0,\n",
       " 1,\n",
       " 1,\n",
       " 1,\n",
       " 1,\n",
       " 1,\n",
       " 1,\n",
       " 1,\n",
       " 1,\n",
       " 1,\n",
       " 1,\n",
       " 1,\n",
       " 0,\n",
       " 1,\n",
       " 1,\n",
       " 0,\n",
       " 1,\n",
       " 0,\n",
       " 0,\n",
       " 1,\n",
       " 1,\n",
       " 1,\n",
       " 1,\n",
       " 1,\n",
       " 1,\n",
       " 1,\n",
       " 0,\n",
       " 1,\n",
       " 1,\n",
       " 0,\n",
       " 1]"
      ]
     },
     "execution_count": 2,
     "metadata": {},
     "output_type": "execute_result"
    }
   ],
   "source": [
    "import os\n",
    "import pandas as pd\n",
    "import face_recognition\n",
    "\n",
    "# Hàm kiểm tra khuôn mặt trong hai ảnh và trả về 1 nếu trùng khớp, ngược lại trả về 0\n",
    "def compare_faces(face_image_path, unknown_image_path):\n",
    "    # Load ảnh khuôn mặt đã biết\n",
    "    known_image = face_recognition.load_image_file(face_image_path)\n",
    "    # Load ảnh chưa biết\n",
    "    unknown_image = face_recognition.load_image_file(unknown_image_path)\n",
    "    # Tìm tất cả các khuôn mặt trong cả hai ảnh\n",
    "    known_face_encodings = face_recognition.face_encodings(known_image)\n",
    "    unknown_face_encodings = face_recognition.face_encodings(unknown_image)\n",
    "    # So sánh khuôn mặt\n",
    "    for known_face_encoding in known_face_encodings:\n",
    "        for unknown_face_encoding in unknown_face_encodings:\n",
    "            # So sánh các khuôn mặt\n",
    "            results = face_recognition.compare_faces([known_face_encoding], unknown_face_encoding)\n",
    "            if results[0]:\n",
    "                return 1\n",
    "    return 0\n",
    "\n",
    "# Đường dẫn đến tập tin CSV chứa đường dẫn của các ảnh\n",
    "csv_file = 'image_paths.csv'\n",
    "\n",
    "# Đọc tập tin CSV bằng Pandas\n",
    "df = pd.read_csv(csv_file)\n",
    "\n",
    "# Tạo một mảng để lưu kết quả\n",
    "results = []\n",
    "\n",
    "# Duyệt qua từng hàng trong DataFrame và gọi hàm compare_faces để kiểm tra khuôn mặt\n",
    "for index, row in df.iterrows():\n",
    "    result = compare_faces(row['face'], row['unknown'])\n",
    "    results.append(result)\n",
    "\n",
    "results\n"
   ]
  },
  {
   "cell_type": "markdown",
   "metadata": {},
   "source": [
    "## 3. Lấy trường is_same từ file dataset\n"
   ]
  },
  {
   "cell_type": "code",
   "execution_count": 5,
   "metadata": {},
   "outputs": [
    {
     "data": {
      "text/plain": [
       "35"
      ]
     },
     "execution_count": 5,
     "metadata": {},
     "output_type": "execute_result"
    }
   ],
   "source": [
    "import numpy as np\n",
    "y = df.iloc[:,-1].values\n",
    "np.count_nonzero(y==0)"
   ]
  },
  {
   "cell_type": "code",
   "execution_count": 9,
   "metadata": {},
   "outputs": [
    {
     "data": {
      "text/html": [
       "<div>\n",
       "<style scoped>\n",
       "    .dataframe tbody tr th:only-of-type {\n",
       "        vertical-align: middle;\n",
       "    }\n",
       "\n",
       "    .dataframe tbody tr th {\n",
       "        vertical-align: top;\n",
       "    }\n",
       "\n",
       "    .dataframe thead th {\n",
       "        text-align: right;\n",
       "    }\n",
       "</style>\n",
       "<table border=\"1\" class=\"dataframe\">\n",
       "  <thead>\n",
       "    <tr style=\"text-align: right;\">\n",
       "      <th></th>\n",
       "      <th>y</th>\n",
       "      <th>y_preds</th>\n",
       "    </tr>\n",
       "  </thead>\n",
       "  <tbody>\n",
       "    <tr>\n",
       "      <th>0</th>\n",
       "      <td>1</td>\n",
       "      <td>1</td>\n",
       "    </tr>\n",
       "    <tr>\n",
       "      <th>1</th>\n",
       "      <td>1</td>\n",
       "      <td>1</td>\n",
       "    </tr>\n",
       "    <tr>\n",
       "      <th>2</th>\n",
       "      <td>1</td>\n",
       "      <td>1</td>\n",
       "    </tr>\n",
       "    <tr>\n",
       "      <th>3</th>\n",
       "      <td>1</td>\n",
       "      <td>1</td>\n",
       "    </tr>\n",
       "    <tr>\n",
       "      <th>4</th>\n",
       "      <td>1</td>\n",
       "      <td>1</td>\n",
       "    </tr>\n",
       "    <tr>\n",
       "      <th>...</th>\n",
       "      <td>...</td>\n",
       "      <td>...</td>\n",
       "    </tr>\n",
       "    <tr>\n",
       "      <th>101</th>\n",
       "      <td>0</td>\n",
       "      <td>0</td>\n",
       "    </tr>\n",
       "    <tr>\n",
       "      <th>102</th>\n",
       "      <td>0</td>\n",
       "      <td>1</td>\n",
       "    </tr>\n",
       "    <tr>\n",
       "      <th>103</th>\n",
       "      <td>1</td>\n",
       "      <td>1</td>\n",
       "    </tr>\n",
       "    <tr>\n",
       "      <th>104</th>\n",
       "      <td>0</td>\n",
       "      <td>0</td>\n",
       "    </tr>\n",
       "    <tr>\n",
       "      <th>105</th>\n",
       "      <td>1</td>\n",
       "      <td>1</td>\n",
       "    </tr>\n",
       "  </tbody>\n",
       "</table>\n",
       "<p>106 rows × 2 columns</p>\n",
       "</div>"
      ],
      "text/plain": [
       "     y  y_preds\n",
       "0    1        1\n",
       "1    1        1\n",
       "2    1        1\n",
       "3    1        1\n",
       "4    1        1\n",
       "..  ..      ...\n",
       "101  0        0\n",
       "102  0        1\n",
       "103  1        1\n",
       "104  0        0\n",
       "105  1        1\n",
       "\n",
       "[106 rows x 2 columns]"
      ]
     },
     "execution_count": 9,
     "metadata": {},
     "output_type": "execute_result"
    }
   ],
   "source": [
    "comp = pd.DataFrame({\"y\" : y, \"y_preds\" : results })\n",
    "comp"
   ]
  },
  {
   "cell_type": "markdown",
   "metadata": {},
   "source": [
    "## 4. Đánh giá kết quả\n"
   ]
  },
  {
   "cell_type": "code",
   "execution_count": 10,
   "metadata": {},
   "outputs": [
    {
     "data": {
      "text/html": [
       "<div>\n",
       "<style scoped>\n",
       "    .dataframe tbody tr th:only-of-type {\n",
       "        vertical-align: middle;\n",
       "    }\n",
       "\n",
       "    .dataframe tbody tr th {\n",
       "        vertical-align: top;\n",
       "    }\n",
       "\n",
       "    .dataframe thead th {\n",
       "        text-align: right;\n",
       "    }\n",
       "</style>\n",
       "<table border=\"1\" class=\"dataframe\">\n",
       "  <thead>\n",
       "    <tr style=\"text-align: right;\">\n",
       "      <th></th>\n",
       "      <th>y</th>\n",
       "      <th>y_preds</th>\n",
       "    </tr>\n",
       "  </thead>\n",
       "  <tbody>\n",
       "    <tr>\n",
       "      <th>19</th>\n",
       "      <td>0</td>\n",
       "      <td>1</td>\n",
       "    </tr>\n",
       "    <tr>\n",
       "      <th>23</th>\n",
       "      <td>0</td>\n",
       "      <td>1</td>\n",
       "    </tr>\n",
       "    <tr>\n",
       "      <th>33</th>\n",
       "      <td>0</td>\n",
       "      <td>1</td>\n",
       "    </tr>\n",
       "    <tr>\n",
       "      <th>38</th>\n",
       "      <td>0</td>\n",
       "      <td>1</td>\n",
       "    </tr>\n",
       "    <tr>\n",
       "      <th>41</th>\n",
       "      <td>0</td>\n",
       "      <td>1</td>\n",
       "    </tr>\n",
       "    <tr>\n",
       "      <th>63</th>\n",
       "      <td>1</td>\n",
       "      <td>0</td>\n",
       "    </tr>\n",
       "    <tr>\n",
       "      <th>66</th>\n",
       "      <td>1</td>\n",
       "      <td>0</td>\n",
       "    </tr>\n",
       "    <tr>\n",
       "      <th>69</th>\n",
       "      <td>0</td>\n",
       "      <td>1</td>\n",
       "    </tr>\n",
       "    <tr>\n",
       "      <th>100</th>\n",
       "      <td>0</td>\n",
       "      <td>1</td>\n",
       "    </tr>\n",
       "    <tr>\n",
       "      <th>102</th>\n",
       "      <td>0</td>\n",
       "      <td>1</td>\n",
       "    </tr>\n",
       "  </tbody>\n",
       "</table>\n",
       "</div>"
      ],
      "text/plain": [
       "     y  y_preds\n",
       "19   0        1\n",
       "23   0        1\n",
       "33   0        1\n",
       "38   0        1\n",
       "41   0        1\n",
       "63   1        0\n",
       "66   1        0\n",
       "69   0        1\n",
       "100  0        1\n",
       "102  0        1"
      ]
     },
     "execution_count": 10,
     "metadata": {},
     "output_type": "execute_result"
    }
   ],
   "source": [
    "different_pairs = comp[comp['y'] != comp['y_preds']]\n",
    "different_pairs"
   ]
  },
  {
   "cell_type": "code",
   "execution_count": 11,
   "metadata": {},
   "outputs": [
    {
     "data": {
      "text/html": [
       "<div>\n",
       "<style scoped>\n",
       "    .dataframe tbody tr th:only-of-type {\n",
       "        vertical-align: middle;\n",
       "    }\n",
       "\n",
       "    .dataframe tbody tr th {\n",
       "        vertical-align: top;\n",
       "    }\n",
       "\n",
       "    .dataframe thead th {\n",
       "        text-align: right;\n",
       "    }\n",
       "</style>\n",
       "<table border=\"1\" class=\"dataframe\">\n",
       "  <thead>\n",
       "    <tr style=\"text-align: right;\">\n",
       "      <th></th>\n",
       "      <th>Model</th>\n",
       "      <th>Precision</th>\n",
       "      <th>Recall</th>\n",
       "      <th>F1_score</th>\n",
       "      <th>Accuracy</th>\n",
       "    </tr>\n",
       "  </thead>\n",
       "  <tbody>\n",
       "    <tr>\n",
       "      <th>0</th>\n",
       "      <td>Face_recognition</td>\n",
       "      <td>89.61%</td>\n",
       "      <td>97.18%</td>\n",
       "      <td>93.24%</td>\n",
       "      <td>90.57%</td>\n",
       "    </tr>\n",
       "  </tbody>\n",
       "</table>\n",
       "</div>"
      ],
      "text/plain": [
       "              Model Precision  Recall F1_score Accuracy\n",
       "0  Face_recognition    89.61%  97.18%   93.24%   90.57%"
      ]
     },
     "execution_count": 11,
     "metadata": {},
     "output_type": "execute_result"
    }
   ],
   "source": [
    "import chart1\n",
    "TP, FP, TN, FN = chart1.index(comp)\n",
    "chart = chart1.Macro_Average(\"Face_recognition\",chart1.Percision(TP,FP),chart1.Recall(TP,FN),chart1.F1_score(TP,FP,FN),chart1.Accuracy(TP,TN,FP,FN))\n",
    "chart"
   ]
  },
  {
   "cell_type": "markdown",
   "metadata": {},
   "source": [
    "- Percision: Thể hiện sự chuẩn xác của việc phát hiện các điểm Positive. Chỉ số này càng cao thì Model nhận các điểm Positive càng chuẩn.\n",
    "- Recall: Thể hiện khả năng phát hiện tất cả các Positive, tỉ lệ này càng cao thì cho thấy khả năng bỏ qua các điểm Positive càng thấp.\n",
    "- F1 score: Là số dung hòa giữa Recall và Percision\n",
    "- Accuracy: tỷ lệ giữa số lượng các dự đoán đúng (true positives và true negatives - TP + TN) và tổng số mẫu dữ liệu. Accuracy đo lường tỷ lệ dự đoán đúng trên toàn bộ tập dữ liệu"
   ]
  },
  {
   "cell_type": "code",
   "execution_count": 2,
   "metadata": {},
   "outputs": [
    {
     "ename": "NameError",
     "evalue": "name 'TP' is not defined",
     "output_type": "error",
     "traceback": [
      "\u001b[1;31m---------------------------------------------------------------------------\u001b[0m",
      "\u001b[1;31mNameError\u001b[0m                                 Traceback (most recent call last)",
      "Cell \u001b[1;32mIn[2], line 4\u001b[0m\n\u001b[0;32m      1\u001b[0m \u001b[38;5;28;01mimport\u001b[39;00m \u001b[38;5;21;01mmatplotlib\u001b[39;00m\u001b[38;5;21;01m.\u001b[39;00m\u001b[38;5;21;01mpyplot\u001b[39;00m \u001b[38;5;28;01mas\u001b[39;00m \u001b[38;5;21;01mplt\u001b[39;00m\n\u001b[0;32m      3\u001b[0m \u001b[38;5;66;03m# Tạo ma trận nhầm lẫn từ các thông số TP, FP, TN, FN\u001b[39;00m\n\u001b[1;32m----> 4\u001b[0m conf_matrix \u001b[38;5;241m=\u001b[39m [[\u001b[43mTP\u001b[49m, FP],\n\u001b[0;32m      5\u001b[0m             [FN, TN]]\n\u001b[0;32m      7\u001b[0m \u001b[38;5;66;03m# Vẽ ma trận nhầm lẫn\u001b[39;00m\n\u001b[0;32m      8\u001b[0m plt\u001b[38;5;241m.\u001b[39mimshow(conf_matrix, cmap\u001b[38;5;241m=\u001b[39mplt\u001b[38;5;241m.\u001b[39mcm\u001b[38;5;241m.\u001b[39mBlues, interpolation\u001b[38;5;241m=\u001b[39m\u001b[38;5;124m'\u001b[39m\u001b[38;5;124mnearest\u001b[39m\u001b[38;5;124m'\u001b[39m)\n",
      "\u001b[1;31mNameError\u001b[0m: name 'TP' is not defined"
     ]
    }
   ],
   "source": [
    "import matplotlib.pyplot as plt\n",
    "\n",
    "# Tạo ma trận nhầm lẫn từ các thông số TP, FP, TN, FN\n",
    "conf_matrix = [[TP, FP],\n",
    "            [FN, TN]]\n",
    "\n",
    "# Vẽ ma trận nhầm lẫn\n",
    "plt.imshow(conf_matrix, cmap=plt.cm.Blues, interpolation='nearest')\n",
    "plt.title('Confusion Matrix')\n",
    "plt.colorbar()\n",
    "\n",
    "# Đặt nhãn cho trục x và trục y\n",
    "classes = ['1', '0']\n",
    "plt.xticks([0, 1], classes)\n",
    "plt.yticks([0, 1], classes)\n",
    "\n",
    "# Hiển thị số lượng mẫu trong từng ô\n",
    "thresh = max(max(conf_matrix)) / 2.  \n",
    "for i in range(len(classes)):\n",
    "    for j in range(len(classes)):\n",
    "        plt.text(j, i, str(conf_matrix[i][j]), horizontalalignment=\"center\",\n",
    "                 color=\"white\" if conf_matrix[i][j] > thresh else \"black\")\n",
    "\n",
    "plt.ylabel('Predicted label')\n",
    "plt.xlabel('True label')\n",
    "plt.tight_layout()\n",
    "plt.show()\n"
   ]
  },
  {
   "cell_type": "code",
   "execution_count": 17,
   "metadata": {},
   "outputs": [
    {
     "name": "stdout",
     "output_type": "stream",
     "text": [
      "None\n",
      "None\n",
      "None\n",
      "{0, 1, 2}\n"
     ]
    }
   ],
   "source": [
    "d = {0,1,2}\n",
    "for x in d:\n",
    "    print(d.add(x))\n",
    "print(d)"
   ]
  }
 ],
 "metadata": {
  "kernelspec": {
   "display_name": "venv",
   "language": "python",
   "name": "python3"
  },
  "language_info": {
   "codemirror_mode": {
    "name": "ipython",
    "version": 3
   },
   "file_extension": ".py",
   "mimetype": "text/x-python",
   "name": "python",
   "nbconvert_exporter": "python",
   "pygments_lexer": "ipython3",
   "version": "3.9.5"
  }
 },
 "nbformat": 4,
 "nbformat_minor": 2
}
